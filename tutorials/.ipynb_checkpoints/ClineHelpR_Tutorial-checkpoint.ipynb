{
 "cells": [
  {
   "cell_type": "markdown",
   "id": "86bc638b",
   "metadata": {},
   "source": [
    "# ClineHelpR\n",
    "\n",
    "Plot BGC and INTROGRESS genomic cline results and correlate INTROGRESS clines with environmental variables.\n",
    "\n",
    "ClineHelpR allows you to plot BGC (Bayesian Genomic Cline) output. After we ran BGC, we realized it wasn't easy to plot the BGC results, so we put together this package in the process of figuring it out.\n",
    "\n",
    "Our package allows you to make several plots.\n",
    "\n",
    "The BGC and INTROGRESS software packages are described elsewhere (Gompert and Buerkle, 2010, 2011, 2012; Gompert et al., 2012a, 2012b)."
   ]
  },
  {
   "cell_type": "markdown",
   "id": "b52e5707",
   "metadata": {},
   "source": [
    "## Software Flow Diagram\n",
    "\n",
    "<img src=\"img/flowchart_ClinePlotR.png\" width=100% height=100% />"
   ]
  },
  {
   "cell_type": "markdown",
   "id": "ad5d49be",
   "metadata": {},
   "source": [
    "## Example Dataset\n",
    "\n",
    "All example data are available from a Dryad Digital Repository (https://doi.org/10.5061/dryad.b2rbnzsc8), as the files are too large for GitHub. To run the example data, download the exampleData directory from DRYAD, then run the R scripts in the ClineHelpR/scripts directory."
   ]
  },
  {
   "cell_type": "markdown",
   "id": "74a57500",
   "metadata": {},
   "source": [
    "## Installation  \n",
    "\n",
    "Below are some instructions for how to install ClineHelpR and its dependencies."
   ]
  },
  {
   "cell_type": "markdown",
   "id": "2593af3a",
   "metadata": {},
   "source": [
    "### Dependencies\n",
    "\n",
    "ClineHelpR has several dependencies, most of which can be installed using Anaconda3.\n",
    "\n",
    "The bgcPlotter functions require:\n",
    "\n",
    "+ data.table\n",
    "+ dplyr\n",
    "+ bayestestR\n",
    "+ scales\n",
    "+ reshape2\n",
    "+ ggplot2\n",
    "+ forcats\n",
    "+ gtools\n",
    "+ RIdeogram\n",
    "+ gdata\n",
    "+ adegenet\n",
    "\n",
    "The environmental functions require:\n",
    "\n",
    "+ ENMeval\n",
    "+ rJava\n",
    "+ raster\n",
    "+ sp\n",
    "+ dismo\n",
    "\n",
    "The INTROGRESS functions require:\n",
    "\n",
    "+ introgress (not available from conda)\n",
    "+ ggplot2\n",
    "+ dplyr\n",
    "+ scales\n",
    "\n",
    "The vcf2bgc.py script requires:\n",
    "+ Python >= 3.4 and Python <= 3.6\n",
    "+ pyVCF\n"
   ]
  },
  {
   "cell_type": "markdown",
   "id": "1f522315",
   "metadata": {},
   "source": [
    "### Installing the Dependencies  \n",
    "\n",
    "Most of the dependencies can be installed with Anaconda3. The only one that cannot be installed via conda is the \n",
    "Introgress R package. Below is a conda command that can be used to install all the other dependencies:\n",
    "\n",
    "```\n",
    "conda create -n clinehelpr python=3.6\n",
    "conda activate clinehelpr\n",
    "conda install -c conda-forge r-base r-dplyr r-bayestestr r-scales r-reshape2 r-ggplot2 r-forcats r-gtools r-rideogram r-gdata r-adegenet r-enmeval r-rjava r-raster r-sp r-dismo r-devtools\n",
    "```\n",
    "\n",
    "To install the additional pyVCF dependency for vcf2bgc.py:\n",
    "\n",
    "```conda install -c bioconda pyvcf```\n",
    "\n",
    "In our experience, installing conda packages from conda-forge and bioconda works better with R packages than the default anaconda channel.  \n"
   ]
  },
  {
   "cell_type": "markdown",
   "id": "f6f8b1fb",
   "metadata": {},
   "source": [
    "### Installing ClineHelpR\n",
    "\n",
    "To install ClineHelpR, you can do the following:\n",
    "\n",
    "```\n",
    "# If you don't already have devtools installed, uncomment the next line\n",
    "# install.packages(\"devtools\")\n",
    "\n",
    "# Install ClineHelpR\n",
    "devtools::install_github(\"btmartin721/ClineHelpR\")\n",
    "``` \n",
    "\n",
    "Now load the library.  \n",
    "```\n",
    "library(\"ClineHelpR\")\n",
    "```"
   ]
  },
  {
   "cell_type": "markdown",
   "id": "096bb44f",
   "metadata": {},
   "source": [
    "## Step 1: Data Filtering (optional)  \n",
    "\n",
    "Data filtering is important for reducing noise and preventing uninformative sites from swamping out real signals in the data. Accordingly, we recommend applying missing data and minor allele frequency filters. \n",
    "\n",
    "Additionally, non-biallelic sites should be removed because BGC assumes that all sites are bi-allelic.  \n",
    "\n",
    "While filtering the data is outside the scope of ClineHelpR, below is a link to a GitHub Repository containing two scripts, *nremover.pl* and *phylipFilterPops.pl*, that can be used for appropriate data filtering:\n",
    "\n",
    "https://github.com/tkchafin/scripts\n",
    "\n",
    "+ *nremover.pl* applies per-individual and per-site missing data filters, bi-allelic, and minor allele frequeny filters.\n",
    "\n",
    "+ *phylipFilterPops.pl* can apply missing data filtering per-population. \n",
    "\n",
    "There are also numerous useful file conversion scripts in this repository that you might be interested in using."
   ]
  },
  {
   "cell_type": "markdown",
   "id": "d4fee957",
   "metadata": {},
   "source": [
    "## Step 2: File Conversion\n",
    "\n",
    "The input data must be converted to the custom BGC file format. ClineHelpR includes a Python script to convert a VCF (variant call format) file to BGC format. \n",
    "\n",
    "+ ClineHelpR/scripts/*vcf2bgc.py* Convert VCF file to BGC format\n",
    "\n",
    "Alternatively, two scripts included in the https://github.com/tkchafin/scripts GitHub repository can handle other file formats.  \n",
    "\n",
    "+ *phylip2bgc.pl* Convert a PHYLIP file to BGC format\n",
    "\n",
    "+ *phylip2introgress.pl* Convert a PHYLIP file to INTROGRESS format\n",
    "\n",
    "Here we demonstrate the *vcf2bgc.py* script on the example data.\n",
    "\n",
    "First, let's bring up the help menu to see the options:"
   ]
  },
  {
   "cell_type": "code",
   "execution_count": 1,
   "id": "4b9ea48f",
   "metadata": {},
   "outputs": [
    {
     "name": "stdout",
     "output_type": "stream",
     "text": [
      "usage: vcf2bgc.py -v VCF -m POPMAP --p1 P1 --p2 P2 --admixed ADMIXED\n",
      "                  [-o OUTPREFIX] [-l] [-h]\n",
      "\n",
      "Convert VCF file to BGC format (with genotype uncertainties). Currently only\n",
      "handles three populations maximum (P1, P2, and Admixed).\n",
      "\n",
      "Required Arguments:\n",
      "  -v VCF, --vcf VCF     Input VCF file\n",
      "  -m POPMAP, --popmap POPMAP\n",
      "                        Two-column tab-separated population map file: inds\n",
      "                        pops. No header line.\n",
      "  --p1 P1               Parental population 1\n",
      "  --p2 P2               Parental population 2\n",
      "  --admixed ADMIXED     Admixed population (limit=1 population)\n",
      "\n",
      "Optional Arguments:\n",
      "  -o OUTPREFIX, --outprefix OUTPREFIX\n",
      "                        Specify output prefix for BGC files.\n",
      "  -l, --linkage         Toggle to create a linkage map file for BGC's linkage\n",
      "                        model. Only use if you have a reference-mapped VCF\n",
      "                        file; default = off.\n",
      "  -h, --help            Displays this help menu\n"
     ]
    }
   ],
   "source": [
    "%run ../scripts/vcf2bgc.py -h"
   ]
  },
  {
   "cell_type": "markdown",
   "id": "3afecc30",
   "metadata": {},
   "source": [
    "The popmap (population map) file contains two columns separated by a tab. The first column should contain sampleIDs for each individual in the dataset. The second column should contain the population IDs for each sample.  There should not be a header line. \n",
    "\n",
    "For example: \n",
    "\n",
    "```\n",
    "Ind1    parent1\n",
    "Ind2    parent1\n",
    "Ind3    parent1\n",
    "Ind4    parent2\n",
    "Ind5    parent2\n",
    "Ind6    parent2\n",
    "Ind7    admix\n",
    "Ind8    admix\n",
    "Ind9    admix\n",
    "```"
   ]
  },
  {
   "cell_type": "markdown",
   "id": "621202fb",
   "metadata": {},
   "source": [
    "The parental populations, p1 and p2, should be identified with the ```--p1``` and ```--p2``` arguments, and the admixed population should be identified with the ```--admixed``` arguments. \n",
    "\n",
    "E.g., \n",
    "```../scripts/vcf2bgc.py -v INPUT_VCF_FILE -m POPMAP_FILE --p1 --p1 parent1 --p2 parent2 --admixed admix```\n",
    "\n",
    "Below we run vcf2bgc.py on the example dataset."
   ]
  },
  {
   "cell_type": "code",
   "execution_count": null,
   "id": "bd6cd591",
   "metadata": {},
   "outputs": [],
   "source": []
  }
 ],
 "metadata": {
  "kernelspec": {
   "display_name": "Python 3",
   "language": "python",
   "name": "python3"
  },
  "language_info": {
   "codemirror_mode": {
    "name": "ipython",
    "version": 3
   },
   "file_extension": ".py",
   "mimetype": "text/x-python",
   "name": "python",
   "nbconvert_exporter": "python",
   "pygments_lexer": "ipython3",
   "version": "3.6.13"
  }
 },
 "nbformat": 4,
 "nbformat_minor": 5
}
